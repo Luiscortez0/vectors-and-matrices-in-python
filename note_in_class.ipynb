{
 "cells": [
  {
   "cell_type": "markdown",
   "metadata": {},
   "source": [
    "## Ejercicios sobre arrays (con listas)\n",
    "\n",
    "### Ejercicio resuelto 1. Dado un array con numeros enteros, escribir un programa que busque determinado numero en particular e indique si se encuentra."
   ]
  },
  {
   "cell_type": "code",
   "execution_count": 1,
   "metadata": {},
   "outputs": [
    {
     "name": "stdout",
     "output_type": "stream",
     "text": [
      "Sí se encuentra el número en el array.\n"
     ]
    }
   ],
   "source": [
    "\n",
    "# sin el uso de funciones:\n",
    "array = [1, 3, 5, 7, 9, 11]\n",
    "numero_a_buscar = 5\n",
    "\n",
    "for i in range(len(array)):\n",
    "    if array[i] == numero_a_buscar:\n",
    "        resultado = \"Sí se encuentra el número en el array.\"\n",
    "        break\n",
    "    else:\n",
    "        resultado = \"No se encuentra el número en el array.\"\n",
    "        \n",
    "print(resultado)\n",
    "\n"
   ]
  },
  {
   "cell_type": "markdown",
   "metadata": {},
   "source": [
    "* El código tiene un problema lógico en la asignación del mensaje dentro del bucle for.\n",
    "* El mensaje de \"No se encuentra el número\" se asigna en cada iteración donde el número actual no es igual a `numero_a_buscar`.\n",
    "* Esto significa que incluso si el número se encuentra en una iteración posterior, el mensaje se habrá sobrescrito incorrectamente en iteraciones anteriores.\n",
    "* Una forma más adecuada de manejar esto sería asignar el mensaje de \"No se encuentra el número\" después de completar el bucle, solo si no se encontró el número.\n",
    "* Python permite el uso del `else` para el el ciclo for."
   ]
  },
  {
   "cell_type": "code",
   "execution_count": 2,
   "metadata": {},
   "outputs": [
    {
     "name": "stdout",
     "output_type": "stream",
     "text": [
      "Sí se encuentra el número en el array.\n"
     ]
    }
   ],
   "source": [
    "array = [1, 3, 5, 7, 9, 11]\n",
    "numero_a_buscar = 5\n",
    "\n",
    "for i in range(len(array)):\n",
    "    if array[i] == numero_a_buscar:\n",
    "        resultado = \"Sí se encuentra el número en el array.\"\n",
    "        break\n",
    "else:  # Este 'else' se ejecuta si el bucle 'for' no se rompe con 'break'\n",
    "    resultado = \"No se encuentra el número en el array.\"\n",
    "\n",
    "print(resultado)\n"
   ]
  },
  {
   "cell_type": "markdown",
   "metadata": {},
   "source": [
    "* Otra forma sería inicializando la variable `resultado` con el mensaje de \"No se encuentra el número...\""
   ]
  },
  {
   "cell_type": "code",
   "execution_count": 3,
   "metadata": {},
   "outputs": [
    {
     "name": "stdout",
     "output_type": "stream",
     "text": [
      "Sí se encuentra el número en el array.\n"
     ]
    }
   ],
   "source": [
    "array = [1, 3, 5, 7, 9, 11]\n",
    "numero_a_buscar = 5\n",
    "\n",
    "resultado = \"No se encuentra el número en el array.\"\n",
    "\n",
    "for i in range(len(array)):\n",
    "    if array[i] == numero_a_buscar:\n",
    "        resultado = \"Sí se encuentra el número en el array.\"\n",
    "        break\n",
    "\n",
    "print(resultado)"
   ]
  },
  {
   "cell_type": "markdown",
   "metadata": {},
   "source": [
    "* En este caso break evita que recorra todo el array (lista)\n",
    "* Comprueba en la siguiente celda cómo le harías para verificar que no recorre toda la lista"
   ]
  },
  {
   "cell_type": "markdown",
   "metadata": {},
   "source": [
    "### Ejercicio para resolver 1: Haz las modificaciones para verificar las veces que se repite la comparación en el array"
   ]
  },
  {
   "cell_type": "code",
   "execution_count": 1,
   "metadata": {},
   "outputs": [
    {
     "name": "stdout",
     "output_type": "stream",
     "text": [
      "Sí se encuentra el número en el array.\n",
      "repeticiones: 2\n"
     ]
    }
   ],
   "source": [
    "# Respuesta:\n",
    "array = [1, 3, 5, 7, 5]\n",
    "numero_a_buscar = 5\n",
    "repes=0\n",
    "\n",
    "resultado = \"No se encuentra el número en el array.\"\n",
    "\n",
    "for i in range(len(array)):\n",
    "    if array[i] == numero_a_buscar:\n",
    "        resultado = \"Sí se encuentra el número en el array.\"\n",
    "        repes+=1\n",
    "        \n",
    "print(resultado)\n",
    "print(F\"repeticiones: {repes}\")\n"
   ]
  },
  {
   "cell_type": "markdown",
   "metadata": {},
   "source": [
    "#### Ejercicio para resolver 2: Ahora modifica el programa para que en vez de decirte si el número está o no dentro del array, te diga cuantas veces se repite el número y en que posiciones lo hace."
   ]
  },
  {
   "cell_type": "code",
   "execution_count": 16,
   "metadata": {},
   "outputs": [
    {
     "name": "stdout",
     "output_type": "stream",
     "text": [
      "Sí se encuentra el número en el array, posicion:3\n",
      "Sí se encuentra el número en el array, posicion:5\n",
      "repeticiones: 2\n"
     ]
    }
   ],
   "source": [
    "# Respuesta:\n",
    "array = [1, 3, 5, 7, 5]\n",
    "numero_a_buscar = 5\n",
    "repes=0\n",
    "\n",
    "resultado = \"No se encuentra el número en el array.\"\n",
    "\n",
    "for i in range(len(array)):\n",
    "    if array[i] == numero_a_buscar:\n",
    "        resultado = f\"Sí se encuentra el número en el array, posicion:{i+1}\"\n",
    "        print(resultado)\n",
    "        repes+=1\n",
    "\n",
    "print(f\"repeticiones: {repes}\")"
   ]
  },
  {
   "cell_type": "markdown",
   "metadata": {},
   "source": [
    "Ejercicio resuelto2: Una forma de estructurar mejor el código es mediante el uso de funciones. Haremos una función que nos retorne la posición en que se econtró el número repetido. Usaremos un valor booleano para que permita validar de manera externa si se econtró o no."
   ]
  },
  {
   "cell_type": "code",
   "execution_count": 17,
   "metadata": {},
   "outputs": [
    {
     "name": "stdout",
     "output_type": "stream",
     "text": [
      "No se encuentra el número en el array.\n"
     ]
    }
   ],
   "source": [
    "def buscar_numero(array, numero_a_buscar):\n",
    "    for i in range(len(array)):\n",
    "        if array[i] == numero_a_buscar:\n",
    "            return True, i\n",
    "    return False, -1\n",
    "\n",
    "array = [1, 3, 5, 7, 9, 11]\n",
    "numero_a_buscar = 12\n",
    "\n",
    "encontrado, posicion = buscar_numero(array, numero_a_buscar)\n",
    "if encontrado:\n",
    "    print(\"Sí se encuentra el número en el array, en la posición:\", posicion)\n",
    "else:\n",
    "    print(\"No se encuentra el número en el array.\")"
   ]
  },
  {
   "cell_type": "markdown",
   "metadata": {},
   "source": [
    "* Como sabemos que el índice jamás será -1, podemos simplificar la función solo retornando la posición y validando que no sea -1, es decir, si es -1 el retorno significa que no se econtró el número en el array."
   ]
  },
  {
   "cell_type": "code",
   "execution_count": 18,
   "metadata": {},
   "outputs": [
    {
     "name": "stdout",
     "output_type": "stream",
     "text": [
      "Se encuentra el número en el array en la posición: 2\n"
     ]
    }
   ],
   "source": [
    "def buscar_numero(array, numero_a_buscar):\n",
    "    for i in range(len(array)):\n",
    "        if array[i] == numero_a_buscar:\n",
    "            return i\n",
    "    return -1\n",
    "\n",
    "array = [1, 3, 5, 7, 9, 11]\n",
    "numero_a_buscar = 5\n",
    "\n",
    "posicion = buscar_numero(array, numero_a_buscar)\n",
    "\n",
    "if posicion != -1:\n",
    "    print(\"Se encuentra el número en el array en la posición:\", posicion)\n",
    "else:\n",
    "    print(\"No se encuentra el número en el array.\")"
   ]
  },
  {
   "cell_type": "markdown",
   "metadata": {},
   "source": [
    "#### Ejercicio resuelto 3: \n",
    "\n",
    "dada una matriz, indique si un valor se encuentra en ella y su posicion.\n"
   ]
  },
  {
   "cell_type": "code",
   "execution_count": 1,
   "metadata": {},
   "outputs": [
    {
     "name": "stdout",
     "output_type": "stream",
     "text": [
      "Se encuentra el número en la matriz en la posición [3,5].\n"
     ]
    }
   ],
   "source": [
    "# sin el uso de funciones:\n",
    "\n",
    "matriz = [[1, 3, 5, 7, 9, 11],\n",
    "            [2, 4, 6, 8, 10, 12],\n",
    "            [13, 15, 17, 19, 21, 23],\n",
    "            [14, 16, 18, 20, 22, 17]]\n",
    "\n",
    "numero_a_buscar = 17\n",
    "\n",
    "resultado = \"No se encuentra el número en la matriz.\"\n",
    "for i in range(len(matriz)):  #renglon_i\n",
    "    for j in range(len(matriz[i])):  #columna_j\n",
    "        if matriz[i][j] == numero_a_buscar:\n",
    "            resultado = f\"Se encuentra el número en la matriz en la posición [{i},{j}].\"\n",
    "            break\n",
    "\n",
    "print(resultado)"
   ]
  },
  {
   "cell_type": "markdown",
   "metadata": {},
   "source": [
    "* Ahora vamos a refactorizarlo mediante una función"
   ]
  },
  {
   "cell_type": "code",
   "execution_count": 2,
   "metadata": {},
   "outputs": [
    {
     "name": "stdout",
     "output_type": "stream",
     "text": [
      "Se encuentra el número en la matriz en la posición [0,2].\n"
     ]
    }
   ],
   "source": [
    "def buscar_numero(matriz, numero_a_buscar):\n",
    "    for i in range(len(matriz)):\n",
    "        for j in range(len(matriz[i])):\n",
    "            if matriz[i][j] == numero_a_buscar:\n",
    "                return True, i, j\n",
    "    return False, -1, -1\n",
    "\n",
    "matriz = [[1, 3, 5, 7, 9, 11],\n",
    "            [2, 4, 6, 8, 10, 12],\n",
    "            [13, 15, 17, 19, 21, 23],\n",
    "            [14, 16, 18, 20, 22, 24]]\n",
    "\n",
    "numero_a_buscar = 5\n",
    "\n",
    "encontrado, posicion_i, posicion_j = buscar_numero(matriz, numero_a_buscar)\n",
    "\n",
    "if encontrado:\n",
    "    print(f\"Se encuentra el número en la matriz en la posición [{posicion_i},{posicion_j}].\")\n",
    "else:\n",
    "    print(\"No se encuentra el número en la matriz.\")\n"
   ]
  },
  {
   "cell_type": "markdown",
   "metadata": {},
   "source": [
    "* Si nos deshacemos de la bandera:"
   ]
  },
  {
   "cell_type": "code",
   "execution_count": 3,
   "metadata": {},
   "outputs": [
    {
     "name": "stdout",
     "output_type": "stream",
     "text": [
      "No se encuentra el número en la matriz.\n"
     ]
    }
   ],
   "source": [
    "def buscar_numero(matriz, numero_a_buscar):\n",
    "    for i in range(len(matriz)):\n",
    "        for j in range(len(matriz[i])):\n",
    "            if matriz[i][j] == numero_a_buscar:\n",
    "                return i, j\n",
    "    return -1, -1\n",
    "\n",
    "matriz = [[1, 3, 5, 7, 9, 11],\n",
    "            [2, 4, 6, 8, 10, 12],\n",
    "            [13, 15, 17, 19, 21, 23],\n",
    "            [14, 16, 18, 20, 22, 24]]\n",
    "\n",
    "numero_a_buscar = 100\n",
    "\n",
    "posicion_i, posicion_j = buscar_numero(matriz, numero_a_buscar)\n",
    "\n",
    "if posicion_i != -1:\n",
    "    print(f\"Se encuentra el número en la matriz en la posición [{posicion_i},{posicion_j}].\")\n",
    "else:\n",
    "    print(\"No se encuentra el número en la matriz.\")\n",
    "\n"
   ]
  },
  {
   "cell_type": "markdown",
   "metadata": {},
   "source": [
    "#### Ejercicio para resolver 3: Indique la cantidad de veces que se repite un determinado número en la matriz"
   ]
  },
  {
   "cell_type": "code",
   "execution_count": 18,
   "metadata": {},
   "outputs": [
    {
     "name": "stdout",
     "output_type": "stream",
     "text": [
      "Se encuentra el número en la matriz, en la posición [2,2].\n",
      "Se encuentra el número en la matriz, en la posición [3,5].\n",
      "se repite: 2 veces\n"
     ]
    }
   ],
   "source": [
    "# Respuesta:\n",
    "def buscar_numero(matriz, numero_a_buscar):\n",
    "    global reps\n",
    "    for i in range(len(matriz)):\n",
    "        for j in range(len(matriz[i])):\n",
    "            if matriz[i][j] == numero_a_buscar:\n",
    "                print(f\"Se encuentra el número en la matriz, en la posición [{i},{j}].\")\n",
    "                reps+=1\n",
    "    if reps<=0:\n",
    "        print(\"No se encuentra el número en la matriz.\")\n",
    "    else:\n",
    "        print(f\"se repite: {reps} veces\")\n",
    "\n",
    "reps=0\n",
    "matriz = [[1, 3, 5, 7, 9, 11],\n",
    "            [2, 4, 6, 8, 10, 12],\n",
    "            [13, 15, 17, 19, 21, 23],\n",
    "            [14, 16, 18, 20, 22, 17]]\n",
    "\n",
    "numero_a_buscar = 17\n",
    "buscar_numero(matriz, numero_a_buscar)"
   ]
  }
 ],
 "metadata": {
  "kernelspec": {
   "display_name": "Python 3",
   "language": "python",
   "name": "python3"
  },
  "language_info": {
   "codemirror_mode": {
    "name": "ipython",
    "version": 3
   },
   "file_extension": ".py",
   "mimetype": "text/x-python",
   "name": "python",
   "nbconvert_exporter": "python",
   "pygments_lexer": "ipython3",
   "version": "3.11.4"
  }
 },
 "nbformat": 4,
 "nbformat_minor": 2
}
